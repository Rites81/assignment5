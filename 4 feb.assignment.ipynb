{
 "cells": [
  {
   "cell_type": "markdown",
   "id": "2a455c67",
   "metadata": {},
   "source": [
    "# lambda function"
   ]
  },
  {
   "cell_type": "code",
   "execution_count": 3,
   "id": "2ab7ec87",
   "metadata": {},
   "outputs": [
    {
     "name": "stdout",
     "output_type": "stream",
     "text": [
      "Original list of tuple::\n",
      "[('Sachin Tendulkar', 34357), ('Ricky Ponding', 27483), ('Jack kallis', 25534), ('Virat Kohli', 24936)]\n",
      "\n",
      " Sorting the list lo tuples is::\n",
      "[('Virat Kohli', 24936), ('Jack kallis', 25534), ('Ricky Ponding', 27483), ('Sachin Tendulkar', 34357)]\n"
     ]
    }
   ],
   "source": [
    "cricket_Score=[('Sachin Tendulkar',34357),('Ricky Ponding',27483),('Jack kallis',25534),('Virat Kohli',24936)]\n",
    "print(\"Original list of tuple::\")\n",
    "print(cricket_Score)\n",
    "cricket_Score.sort(key=lambda x:x[1])\n",
    "print(\"\\n Sorting the list lo tuples is::\")\n",
    "print(cricket_Score)"
   ]
  },
  {
   "cell_type": "markdown",
   "id": "1ebaaeb4",
   "metadata": {},
   "source": [
    "# Square of function"
   ]
  },
  {
   "cell_type": "code",
   "execution_count": 1,
   "id": "195372e8",
   "metadata": {},
   "outputs": [
    {
     "name": "stdout",
     "output_type": "stream",
     "text": [
      "[1, 4, 9, 16, 25, 36, 49, 64, 81, 100]\n"
     ]
    }
   ],
   "source": [
    "def square(num):\n",
    " return num*num\n",
    "\n",
    "number=[1,2,3,4,5,6,7,8,9,10]\n",
    "square=list(map(square,number))\n",
    "print(square)"
   ]
  },
  {
   "cell_type": "code",
   "execution_count": 1,
   "id": "01f909f0",
   "metadata": {},
   "outputs": [
    {
     "name": "stdout",
     "output_type": "stream",
     "text": [
      "Number divisible by 2 is:: [2, 6, 60, 90, 120, 46]\n",
      "Number is divisible by 3 is:: [3, 6, 9, 27, 60, 90, 120]\n"
     ]
    }
   ],
   "source": [
    "num=[2, 3, 6, 9, 27, 60, 90, 120, 55, 46]\n",
    "li=list(filter(lambda x: (x % 2==0),num))\n",
    "print(\"Number divisible by 2 is::\",li)\n",
    "\n",
    "li=list(filter(lambda x: (x%3==0),num))\n",
    "print(\"Number is divisible by 3 is::\",li)\n"
   ]
  },
  {
   "cell_type": "code",
   "execution_count": 10,
   "id": "7352e6f7",
   "metadata": {},
   "outputs": [
    {
     "name": "stdout",
     "output_type": "stream",
     "text": [
      "Origianl string is::\n",
      "[1, 2, 3, 4, 5, 6, 7, 8, 9, 10]\n",
      "Expectation Value is::\n",
      "('1', '2', '3', '4', '5', '6', '7', '8', '9', '10')\n"
     ]
    }
   ],
   "source": [
    "Given_String= [1, 2, 3, 4, 5, 6, 7, 8, 9, 10]\n",
    "print(\"Origianl string is::\")\n",
    "print(Given_String)\n",
    "result=tuple(map(str,Given_String))\n",
    "print(\"Expectation Value is::\")\n",
    "print(result)"
   ]
  },
  {
   "cell_type": "code",
   "execution_count": 8,
   "id": "a9af465d",
   "metadata": {},
   "outputs": [
    {
     "name": "stdout",
     "output_type": "stream",
     "text": [
      "The product is : 15511210043330985984000000\n"
     ]
    }
   ],
   "source": [
    "from functools import reduce\n",
    "\n",
    "list1 = [1, 2, 3, 4, 5, 6, 7, 8, 9, 10, 11, 12, 13, 14, 15, 16, 17, 18, 19, 20, 21, 22, 23, 24, 25] \n",
    "print (\"The product is : \",end=\"\") \n",
    "print (reduce(lambda x,y: x*y,list1))"
   ]
  },
  {
   "cell_type": "code",
   "execution_count": 12,
   "id": "3f7278ab",
   "metadata": {},
   "outputs": [
    {
     "name": "stdout",
     "output_type": "stream",
     "text": [
      "Original list of string:\n",
      "['python', 'php', 'aba', 'radar', 'level']\n",
      "List of palindrom:\n",
      "['php', 'aba', 'radar', 'level']\n"
     ]
    }
   ],
   "source": [
    "text=['python', 'php', 'aba', 'radar', 'level']\n",
    "print(\"Original list of string:\")\n",
    "print(text)\n",
    "result=list(filter(lambda x:(x==\"\".join(reversed(x))),text))\n",
    "print(\"List of palindrom:\")\n",
    "print(result)"
   ]
  },
  {
   "cell_type": "code",
   "execution_count": null,
   "id": "ec2d1594",
   "metadata": {},
   "outputs": [],
   "source": []
  }
 ],
 "metadata": {
  "kernelspec": {
   "display_name": "Python 3 (ipykernel)",
   "language": "python",
   "name": "python3"
  },
  "language_info": {
   "codemirror_mode": {
    "name": "ipython",
    "version": 3
   },
   "file_extension": ".py",
   "mimetype": "text/x-python",
   "name": "python",
   "nbconvert_exporter": "python",
   "pygments_lexer": "ipython3",
   "version": "3.10.5"
  }
 },
 "nbformat": 4,
 "nbformat_minor": 5
}
